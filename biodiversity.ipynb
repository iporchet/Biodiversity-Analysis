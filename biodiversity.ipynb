{
 "cells": [
  {
   "cell_type": "code",
   "execution_count": 1,
   "metadata": {},
   "outputs": [],
   "source": [
    "import csv\n",
    "import numpy as np\n",
    "import pandas as pan\n",
    "import matplotlib.pyplot as plt"
   ]
  },
  {
   "cell_type": "code",
   "execution_count": 2,
   "metadata": {},
   "outputs": [],
   "source": [
    "#TODO: Create animal class object that creates animal with properties\n",
    "class Animal:\n",
    "    def __init__(self, category='', scientific_name='', common_names='', park_name='', conservation_status='', observations=''):\n",
    "        self.category = category\n",
    "        self.scientific_name = scientific_name\n",
    "        self.common_names = common_names\n",
    "        self.conservation_status = conservation_status\n",
    "        self.park_name = park_name\n",
    "        self.observations = observations\n",
    "\n",
    "    def get_category(self):\n",
    "        return self.category\n",
    "\n",
    "    def get_conservation_status(self):\n",
    "        return self.conservation_status\n",
    "\n",
    "    def get_observations(self):\n",
    "        return self.observations\n",
    "\n"
   ]
  },
  {
   "cell_type": "code",
   "execution_count": 4,
   "metadata": {},
   "outputs": [],
   "source": [
    "list_of_animals = []\n",
    "\n",
    "# reading csv file to obtain attributes to create animal class\n",
    "with open(\"observations.csv\", 'r') as observations:\n",
    "    with open(\"species_info.csv\", 'r') as species_info:\n",
    "        dict_reader_species = csv.DictReader(species_info)\n",
    "        dict_reader_obsvr = csv.DictReader(observations)\n",
    "        list_of_animals_counter = 0\n",
    "\n",
    "        for row1 in dict_reader_species:\n",
    "            list_of_animals.append(Animal(category=row1['category'], scientific_name=row1['scientific_name'], common_names=row1['common_names'], conservation_status=row1['conservation_status']))\n",
    "            \n",
    "            for row in dict_reader_obsvr:\n",
    "                if row1['scientific_name'] == row['scientific_name']:\n",
    "                    \n",
    "                    list_of_animals[list_of_animals_counter].park_name = row['park_name']\n",
    "                    list_of_animals[list_of_animals_counter].observations = row['observations']\n",
    "                    list_of_animals_counter += 1\n",
    "                    break"
   ]
  }
 ],
 "metadata": {
  "kernelspec": {
   "display_name": "Python 3",
   "language": "python",
   "name": "python3"
  },
  "language_info": {
   "codemirror_mode": {
    "name": "ipython",
    "version": 3
   },
   "file_extension": ".py",
   "mimetype": "text/x-python",
   "name": "python",
   "nbconvert_exporter": "python",
   "pygments_lexer": "ipython3",
   "version": "3.10.6"
  },
  "vscode": {
   "interpreter": {
    "hash": "916dbcbb3f70747c44a77c7bcd40155683ae19c65e1c03b4aa3499c5328201f1"
   }
  }
 },
 "nbformat": 4,
 "nbformat_minor": 4
}
