{
 "cells": [
  {
   "cell_type": "code",
   "execution_count": 2,
   "metadata": {},
   "outputs": [],
   "source": [
    "import numpy as np\n",
    "import pandas as pan\n",
    "import matplotlib.pyplot as plt\n",
    "\n",
    "list_of_animals = [] # Contains list of all animal objects"
   ]
  },
  {
   "cell_type": "code",
   "execution_count": null,
   "metadata": {},
   "outputs": [],
   "source": [
    "#TODO: Create animal class object that creates animal with properties\n",
    "class Animal:\n",
    "    def __init__(self, category, scientific_name, common_names, conservation_status, park_name, observations):\n",
    "        self.category = category\n",
    "        self.scientific_name = scientific_name\n",
    "        self.common_names = common_names\n",
    "        self.conservation_status = conservation_status\n",
    "        self.park_name = park_name\n",
    "        self.observations = observations\n",
    "\n",
    "    def get_category(self):\n",
    "        return self.category\n",
    "\n",
    "    def get_conservation_status(self):\n",
    "        return self.conservation_status\n",
    "\n",
    "    def get_observations(self):\n",
    "        return self.observations\n",
    "\n"
   ]
  },
  {
   "cell_type": "code",
   "execution_count": null,
   "metadata": {},
   "outputs": [],
   "source": [
    "# reading csv file to obtain attributes to create animal class\n",
    "with open(\"python/Biodiversity_National_Park/species_info.csv\", 'r') as species_info:\n",
    "    for x in species_info:\n",
    "        if \"category,scientific_name\" in x:\n",
    "            pass\n",
    "        else:\n",
    "            if x.count(\"\\\"\") == 2:\n",
    "                common_names = []\n",
    "                new_animal = list(x.split(','))\n",
    "\n",
    "                #BUG: recognizing double qoutes in list to get the first index\n",
    "                indx1 = new_animal.index(\"\\\"\")\n",
    "\n",
    "                print(new_animal[indx1])\n",
    "\n",
    "                for y in range(indx1, len(new_animal)):\n",
    "                    if \"\\\"\" in new_animal[y] and y != indx1:\n",
    "                        common_names.append(new_animal[y])\n",
    "                        break\n",
    "\n",
    "                    else:\n",
    "                        common_names.append(new_animal[y])\n",
    "\n",
    "\n",
    "            \n",
    "\n",
    "            else:\n",
    "                new_animal = list(x.split(','))"
   ]
  }
 ],
 "metadata": {
  "kernelspec": {
   "display_name": "Python 3",
   "language": "python",
   "name": "python3"
  },
  "language_info": {
   "codemirror_mode": {
    "name": "ipython",
    "version": 3
   },
   "file_extension": ".py",
   "mimetype": "text/x-python",
   "name": "python",
   "nbconvert_exporter": "python",
   "pygments_lexer": "ipython3",
   "version": "3.10.6"
  },
  "vscode": {
   "interpreter": {
    "hash": "916dbcbb3f70747c44a77c7bcd40155683ae19c65e1c03b4aa3499c5328201f1"
   }
  }
 },
 "nbformat": 4,
 "nbformat_minor": 4
}
