{
 "cells": [
  {
   "cell_type": "code",
   "execution_count": 2,
   "metadata": {},
   "outputs": [],
   "source": [
    "import csv\n",
    "import numpy as np\n",
    "import pandas as pan\n",
    "import matplotlib.pyplot as plt\n",
    "\n",
    "list_of_animals = [] # Contains list of all animal objects"
   ]
  },
  {
   "cell_type": "code",
   "execution_count": 3,
   "metadata": {},
   "outputs": [],
   "source": [
    "#TODO: Create animal class object that creates animal with properties\n",
    "class Animal:\n",
    "    def __init__(self, category='', scientific_name='', common_names='', park_name='', conservation_status='', observations=''):\n",
    "        self.category = category\n",
    "        self.scientific_name = scientific_name\n",
    "        self.common_names = common_names\n",
    "        self.conservation_status = conservation_status\n",
    "        self.park_name = park_name\n",
    "        self.observations = observations\n",
    "\n",
    "    def get_category(self):\n",
    "        return self.category\n",
    "\n",
    "    def get_conservation_status(self):\n",
    "        return self.conservation_status\n",
    "\n",
    "    def get_observations(self):\n",
    "        return self.observations\n",
    "\n"
   ]
  },
  {
   "cell_type": "code",
   "execution_count": 4,
   "metadata": {},
   "outputs": [
    {
     "ename": "IndexError",
     "evalue": "list assignment index out of range",
     "output_type": "error",
     "traceback": [
      "\u001b[0;31m---------------------------------------------------------------------------\u001b[0m",
      "\u001b[0;31mIndexError\u001b[0m                                Traceback (most recent call last)",
      "Cell \u001b[0;32mIn[4], line 9\u001b[0m\n\u001b[1;32m      6\u001b[0m object_counter \u001b[39m=\u001b[39m \u001b[39m0\u001b[39m\n\u001b[1;32m      8\u001b[0m \u001b[39mfor\u001b[39;00m row \u001b[39min\u001b[39;00m dict_reader_species:\n\u001b[0;32m----> 9\u001b[0m     list_of_animals[object_counter] \u001b[39m=\u001b[39m Animal(category\u001b[39m=\u001b[39mrow[\u001b[39m'\u001b[39m\u001b[39mcategory\u001b[39m\u001b[39m'\u001b[39m], scientific_name\u001b[39m=\u001b[39mrow[\u001b[39m'\u001b[39m\u001b[39mscientific_name\u001b[39m\u001b[39m'\u001b[39m], common_names\u001b[39m=\u001b[39mrow[\u001b[39m'\u001b[39m\u001b[39mcommon_names\u001b[39m\u001b[39m'\u001b[39m], conservation_status\u001b[39m=\u001b[39mrow[\u001b[39m'\u001b[39m\u001b[39mconservation_status\u001b[39m\u001b[39m'\u001b[39m])\n\u001b[1;32m     11\u001b[0m     \u001b[39mfor\u001b[39;00m row \u001b[39min\u001b[39;00m dict_reader_obsvr:\n\u001b[1;32m     12\u001b[0m         \u001b[39mif\u001b[39;00m row[\u001b[39m'\u001b[39m\u001b[39mscientific_name\u001b[39m\u001b[39m'\u001b[39m] \u001b[39m==\u001b[39m list_of_animals[object_counter]\u001b[39m.\u001b[39mscientific_name:\n",
      "\u001b[0;31mIndexError\u001b[0m: list assignment index out of range"
     ]
    }
   ],
   "source": [
    "# reading csv file to obtain attributes to create animal class\n",
    "with open(\"observations.csv\", 'r') as observations:\n",
    "    with open(\"species_info.csv\", 'r') as species_info:\n",
    "        dict_reader_species = csv.DictReader(species_info)\n",
    "        dict_reader_obsvr = csv.DictReader(observations)\n",
    "        object_counter = 0\n",
    "\n",
    "        #TODO: Get length of reader to iterate through dict_reader_species by number to create unique objects\n",
    "        # finalize object creation\n",
    "        for row in dict_reader_species:\n",
    "            list_of_animals[object_counter] = Animal(category=row['category'], scientific_name=row['scientific_name'], common_names=row['common_names'], conservation_status=row['conservation_status'])\n",
    "\n",
    "            for row in dict_reader_obsvr:\n",
    "                if row['scientific_name'] == list_of_animals[object_counter].scientific_name:\n",
    "                    list_of_animals[object_counter].park_name = row['park_name']\n",
    "                    list_of_animals[object_counter].observations = row['observations']\n",
    "\n",
    "            object_counter += 1\n",
    "\n",
    "        \n"
   ]
  }
 ],
 "metadata": {
  "kernelspec": {
   "display_name": "Python 3",
   "language": "python",
   "name": "python3"
  },
  "language_info": {
   "codemirror_mode": {
    "name": "ipython",
    "version": 3
   },
   "file_extension": ".py",
   "mimetype": "text/x-python",
   "name": "python",
   "nbconvert_exporter": "python",
   "pygments_lexer": "ipython3",
   "version": "3.10.6"
  },
  "vscode": {
   "interpreter": {
    "hash": "916dbcbb3f70747c44a77c7bcd40155683ae19c65e1c03b4aa3499c5328201f1"
   }
  }
 },
 "nbformat": 4,
 "nbformat_minor": 4
}
